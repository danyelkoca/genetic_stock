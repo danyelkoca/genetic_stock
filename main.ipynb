{
 "cells": [
  {
   "cell_type": "code",
   "execution_count": null,
   "metadata": {},
   "outputs": [],
   "source": [
    "import pandas as pd\n",
    "import numpy as np\n",
    "import matplotlib as mpl\n",
    "import pygad\n",
    "import numpy as np\n",
    "import itertools\n",
    "import random\n",
    "mpl.rcParams['figure.facecolor'] = 'white'\n",
    "mpl.rcParams[\"figure.figsize\"] = (10, 7)"
   ]
  },
  {
   "cell_type": "code",
   "execution_count": null,
   "metadata": {},
   "outputs": [],
   "source": [
    "data = pd.read_csv(\"data_excerpt.csv\")\n",
    "data"
   ]
  },
  {
   "cell_type": "code",
   "execution_count": null,
   "metadata": {},
   "outputs": [],
   "source": [
    "df = data.copy()\n",
    "start_date = \"2021-04-01\"\n",
    "end_date = \"2022-03-01\"\n",
    "df = df[(df[\"date\"] >= start_date) & (df[\"date\"] <= end_date)]\n",
    "df = df[[\"ticker\", \"date\", \"Close\"]].rename(columns={\"Close\": \"price\"}).reset_index(drop=True)\n",
    "tickers = df[\"ticker\"].unique()\n",
    "tickers_map = {i : j for i,j in zip(tickers, range(len(tickers)))}\n",
    "tickers_map_reverse = {j : i for i,j in zip(tickers, range(len(tickers)))}\n",
    "\n",
    "df[\"ticker_index\"]  = df[\"ticker\"].map(tickers_map)\n",
    "firsts = (df.groupby('ticker').transform('first'))\n",
    "df[\"adj_price\"] = df[\"price\"] / firsts[\"price\"]\n",
    "df = df[[\"ticker\", \"ticker_index\", \"date\", \"adj_price\"]]\n",
    "\n",
    "## Drop OGN as it joined SP500 midway\n",
    "df = df[df[\"ticker\"] != \"OGN\"]"
   ]
  },
  {
   "cell_type": "code",
   "execution_count": null,
   "metadata": {},
   "outputs": [],
   "source": [
    "df.groupby(\"ticker\").count().sort_values(\"date\")"
   ]
  },
  {
   "cell_type": "markdown",
   "metadata": {},
   "source": [
    "#### Genetic algorithm\n",
    "\n",
    "Below we try to find the best combination of 10 stocks that give the best return over the defined time period"
   ]
  },
  {
   "cell_type": "code",
   "execution_count": null,
   "metadata": {},
   "outputs": [],
   "source": [
    "## Define fitness function and utils\n",
    "\n",
    "def portfolio_generate(df, tickers):\n",
    "    portfolio = df[df['ticker_index'].isin(tickers)]\n",
    "    portfolio = portfolio.groupby(\"date\", as_index=False).sum()\n",
    "    portfolio = portfolio.sort_values(\"date\")\n",
    "    return portfolio\n",
    "\n",
    "def portfolio_return(portfolio):\n",
    "    first_price = portfolio[\"adj_price\"].iloc[0]\n",
    "    last_price = portfolio[\"adj_price\"].iloc[-1]\n",
    "    return last_price / first_price - 1\n",
    "\n",
    "def portfolio_risk(portfolio):\n",
    "    portfolio[\"daily_change\"] = portfolio[\"adj_price\"].diff(1)\n",
    "    portfolio[\"daily_change\"] = portfolio[\"daily_change\"] / portfolio[\"adj_price\"]\n",
    "\n",
    "    return portfolio[\"daily_change\"].std()\n",
    "\n",
    "def fitness_func(solution, solution_idx):\n",
    "    portfolio = portfolio_generate(df, solution)\n",
    "    ret = portfolio_return(portfolio)\n",
    "    ris = portfolio_risk(portfolio)\n",
    "    fitness = ret / ris\n",
    "    return fitness\n",
    "\n",
    "def visualize(df, solution):\n",
    "    solution_fitness = fitness_func(solution, None)\n",
    "    portfolio  = portfolio_generate(df, solution)\n",
    "    portfolio[\"adj_price\"] = (portfolio[\"adj_price\"] / portfolio[\"adj_price\"].iloc[0] ) * 100\n",
    "    ax = portfolio.plot.line(x=\"date\", y=\"adj_price\")\n",
    "    ax.set_ylim(90, 190)\n",
    "    ret = round(portfolio_return(portfolio) * 100, 1)\n",
    "    ris = round(portfolio_risk(portfolio) * 100, 1)\n",
    "    \n",
    "    print(f\"Parameters of the best solution : {[tickers_map_reverse[i] for i in solution]}\")\n",
    "    print(f\"Return: {ret}%\")\n",
    "    print(f\"Risk: {ris}%\")\n",
    "    print(f\"Risk adjusted return = {round(solution_fitness,1)}%\")\n"
   ]
  },
  {
   "cell_type": "code",
   "execution_count": null,
   "metadata": {},
   "outputs": [],
   "source": [
    "## Define Genetic Algorithm\n",
    "\n",
    "fitness_function = fitness_func\n",
    "\n",
    "num_generations = 30\n",
    "num_genes = 10\n",
    "\n",
    "sol_per_pop = 90\n",
    "num_parents_mating =  50\n",
    "\n",
    "init_range_low = 0\n",
    "init_range_high = 497\n",
    "gene_type = int\n",
    "\n",
    "parent_selection_type = \"sss\"\n",
    "keep_parents = 30\n",
    "\n",
    "crossover_type = \"single_point\"\n",
    "\n",
    "mutation_type = \"random\"\n",
    "mutation_percent_genes = 30"
   ]
  },
  {
   "cell_type": "code",
   "execution_count": null,
   "metadata": {},
   "outputs": [],
   "source": [
    "## Initiate and run genetic algorithm\n",
    "\n",
    "ga_instance = pygad.GA(num_generations=num_generations,\n",
    "                       num_parents_mating=num_parents_mating,\n",
    "                       fitness_func=fitness_function,\n",
    "                       sol_per_pop=sol_per_pop,\n",
    "                       num_genes=num_genes,\n",
    "                       init_range_low=init_range_low,\n",
    "                       init_range_high=init_range_high,\n",
    "                       parent_selection_type=parent_selection_type,\n",
    "                       keep_parents=keep_parents,\n",
    "                       crossover_type=crossover_type,\n",
    "                       mutation_type=mutation_type,\n",
    "                       mutation_percent_genes=mutation_percent_genes,\n",
    "                       gene_type=gene_type,\n",
    "                       allow_duplicate_genes=False,\n",
    "                       random_seed=2)\n",
    "ga_instance.run()\n",
    "for i,j in zip (ga_instance.best_solutions, ga_instance.best_solutions_fitness):\n",
    "  print([(tickers_map_reverse[k],k) for k in sorted(i)],j)"
   ]
  },
  {
   "cell_type": "code",
   "execution_count": null,
   "metadata": {},
   "outputs": [],
   "source": [
    "## Plot training, best resuls\n",
    "\n",
    "ga_instance.plot_fitness(save_dir=\"result.png\")\n",
    "[solution, _, __] = ga_instance.best_solution()\n",
    "visualize(df, solution)"
   ]
  },
  {
   "cell_type": "code",
   "execution_count": null,
   "metadata": {},
   "outputs": [],
   "source": [
    "## Top 10 performers benchmark\n",
    "\n",
    "firsts = df.groupby(\"ticker_index\", as_index=False).first()\n",
    "firsts = firsts.rename({\"adj_price\": \"first_price\"}, axis=1)[[\"ticker_index\", \"first_price\"]]\n",
    "lasts = df.groupby(\"ticker_index\", as_index=False).last()\n",
    "lasts = lasts.rename({\"adj_price\": \"last_price\"}, axis=1)[[\"ticker_index\", \"last_price\"]]\n",
    "\n",
    "df_ = firsts.merge(lasts, on=\"ticker_index\", how=\"left\")\n",
    "df_[\"return\"] = df_[\"last_price\"] / df_[\"first_price\"]\n",
    "df_ = df_.sort_values(\"return\", ascending=False)\n",
    "best_return = df_.head(10)[\"ticker_index\"].unique()\n",
    "\n",
    "visualize(df, best_return)"
   ]
  },
  {
   "cell_type": "code",
   "execution_count": null,
   "metadata": {},
   "outputs": [],
   "source": [
    "## S&P 500 benchmark\n",
    "\n",
    "visualize(df, df[\"ticker_index\"].unique())"
   ]
  }
 ],
 "metadata": {
  "interpreter": {
   "hash": "aee8b7b246df8f9039afb4144a1f6fd8d2ca17a180786b69acc140d282b71a49"
  },
  "kernelspec": {
   "display_name": "Python 3.10.0 64-bit",
   "language": "python",
   "name": "python3"
  },
  "language_info": {
   "codemirror_mode": {
    "name": "ipython",
    "version": 3
   },
   "file_extension": ".py",
   "mimetype": "text/x-python",
   "name": "python",
   "nbconvert_exporter": "python",
   "pygments_lexer": "ipython3",
   "version": "3.10.0"
  },
  "orig_nbformat": 4
 },
 "nbformat": 4,
 "nbformat_minor": 2
}
